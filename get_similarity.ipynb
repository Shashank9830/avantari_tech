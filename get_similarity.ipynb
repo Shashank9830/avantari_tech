{
 "cells": [
  {
   "cell_type": "markdown",
   "metadata": {},
   "source": [
    "# Calculate Cosine Similarity"
   ]
  },
  {
   "cell_type": "markdown",
   "metadata": {},
   "source": [
    "### 0. Make necessary imports"
   ]
  },
  {
   "cell_type": "code",
   "execution_count": null,
   "metadata": {},
   "outputs": [],
   "source": [
    "from tensorflow.keras.losses import cosine_similarity\n",
    "import numpy as np\n",
    "import time\n",
    "import json"
   ]
  },
  {
   "cell_type": "code",
   "execution_count": null,
   "metadata": {},
   "outputs": [],
   "source": [
    "%matplotlib inline"
   ]
  },
  {
   "cell_type": "markdown",
   "metadata": {},
   "source": [
    "### 1. Load cached encoding(s)"
   ]
  },
  {
   "cell_type": "code",
   "execution_count": null,
   "metadata": {},
   "outputs": [],
   "source": [
    "encodings = np.load('encodings.npy')"
   ]
  },
  {
   "cell_type": "markdown",
   "metadata": {},
   "source": [
    "### 2. Calculate cosine similarity of all the encoding(s) with each other\n",
    "\n",
    "**NOTE:** *This cell can take more than an hour to execute*"
   ]
  },
  {
   "cell_type": "code",
   "execution_count": null,
   "metadata": {
    "scrolled": true
   },
   "outputs": [],
   "source": [
    "similarity_matrix = []\n",
    "\n",
    "start = time.time()\n",
    "\n",
    "for i in range(encodings.shape[0]):\n",
    "    \n",
    "    for_this_encoding = []\n",
    "    \n",
    "    for j in range(encodings.shape[0]):\n",
    "        for_this_encoding.append(cosine_similarity(encodings[i], encodings[j]).numpy())\n",
    "    \n",
    "    similarity_matrix.append(for_this_encoding)\n",
    "\n",
    "stop = time.time()\n",
    "\n",
    "assert similarity_matrix.shape == (encodings.shape[0], encodings.shape[0]), f\"Incorrect shape {similarity_matrix.shape}\"\n",
    "\n",
    "print(f'It took {round((stop-start)/60, 2)} minutes to calculate similarity matrix.')"
   ]
  },
  {
   "cell_type": "markdown",
   "metadata": {},
   "source": [
    "### 3. Save the similarity matrix "
   ]
  },
  {
   "cell_type": "code",
   "execution_count": null,
   "metadata": {},
   "outputs": [],
   "source": [
    "np.save('cosine_similarity_matrix.npy', similarity_matrix)"
   ]
  },
  {
   "cell_type": "markdown",
   "metadata": {},
   "source": [
    "### 4. Create human readble format of above info (sorted)"
   ]
  },
  {
   "cell_type": "code",
   "execution_count": null,
   "metadata": {},
   "outputs": [],
   "source": [
    "# tag each row value with its corresponding image number and data type into python 'float'\n",
    "# convert the rows into lists\n",
    "tagged_sim_mat = [[[str(i), float(item)] for i, item in enumerate(list(row))] for row in similarity_matrix]\n",
    "\n",
    "# sort each list in order of decreasing similarity (-1 being most similar and 0 being least similar)\n",
    "sorted_tagged_sim_mat = [sorted(row, key=lambda x: x[1]) for row in tagged_sim_mat]"
   ]
  },
  {
   "cell_type": "markdown",
   "metadata": {},
   "source": [
    "### 5. Save the sorted similarity matrix in JSON format"
   ]
  },
  {
   "cell_type": "code",
   "execution_count": null,
   "metadata": {},
   "outputs": [],
   "source": [
    "with open('sim_mat_sorted.json', 'w') as file:\n",
    "    json.dump(sorted_tagged_sim_mat, file)"
   ]
  }
 ],
 "metadata": {
  "kernelspec": {
   "display_name": "Python 3",
   "language": "python",
   "name": "python3"
  },
  "language_info": {
   "codemirror_mode": {
    "name": "ipython",
    "version": 3
   },
   "file_extension": ".py",
   "mimetype": "text/x-python",
   "name": "python",
   "nbconvert_exporter": "python",
   "pygments_lexer": "ipython3",
   "version": "3.7.8"
  }
 },
 "nbformat": 4,
 "nbformat_minor": 4
}
