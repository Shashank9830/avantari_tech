{
 "cells": [
  {
   "cell_type": "markdown",
   "metadata": {
    "colab_type": "text",
    "id": "LsnabbubvoPX"
   },
   "source": [
    "# Encoder Notebook : Get image encodings"
   ]
  },
  {
   "cell_type": "markdown",
   "metadata": {},
   "source": [
    "### 0. Make necessary imports"
   ]
  },
  {
   "cell_type": "code",
   "execution_count": null,
   "metadata": {
    "colab": {},
    "colab_type": "code",
    "id": "HkgJdNWs51zL"
   },
   "outputs": [],
   "source": [
    "import tensorflow as tf\n",
    "import numpy as np"
   ]
  },
  {
   "cell_type": "markdown",
   "metadata": {},
   "source": [
    "### 1. Load image data, convert it into a numpy array and normalize it."
   ]
  },
  {
   "cell_type": "code",
   "execution_count": null,
   "metadata": {
    "colab": {},
    "colab_type": "code",
    "id": "jbpBHAJT6UAd"
   },
   "outputs": [],
   "source": [
    "# load the data\n",
    "data = []\n",
    "for i in range(4738):\n",
    "    image = tf.keras.preprocessing.image.load_img(f\"resized_256/{i}.jpg\")\n",
    "    data.append(tf.keras.preprocessing.image.img_to_array(image))\n",
    "\n",
    "# convert it into numpy array\n",
    "data = np.array(data)\n",
    "\n",
    "# perform min-max scaling\n",
    "data /= 255"
   ]
  },
  {
   "cell_type": "markdown",
   "metadata": {
    "colab": {},
    "colab_type": "code",
    "id": "s8YZRFyS7h5q"
   },
   "source": [
    "### 2. Load the trained Encoder"
   ]
  },
  {
   "cell_type": "code",
   "execution_count": null,
   "metadata": {
    "colab": {},
    "colab_type": "code",
    "id": "q1oeh9zG7qmU"
   },
   "outputs": [],
   "source": [
    "model = tf.keras.models.load_model('trained_encoder.h5')"
   ]
  },
  {
   "cell_type": "markdown",
   "metadata": {},
   "source": [
    "### 3. Get image encodings and save it in numpy format"
   ]
  },
  {
   "cell_type": "code",
   "execution_count": null,
   "metadata": {
    "colab": {
     "base_uri": "https://localhost:8080/",
     "height": 255
    },
    "colab_type": "code",
    "id": "072FOuYY721h",
    "outputId": "68fd2158-9ab5-43a1-8b02-1f0b1d2c2dc1"
   },
   "outputs": [],
   "source": [
    "encodings = model.predict(data)"
   ]
  },
  {
   "cell_type": "markdown",
   "metadata": {},
   "source": [
    "### 4. Save the encodings in numpy formatt"
   ]
  },
  {
   "cell_type": "code",
   "execution_count": null,
   "metadata": {
    "colab": {},
    "colab_type": "code",
    "id": "CYAfhkks8gOU"
   },
   "outputs": [],
   "source": [
    "np.save('encodings.npy', encodings)"
   ]
  }
 ],
 "metadata": {
  "accelerator": "GPU",
  "colab": {
   "collapsed_sections": [],
   "name": "trainer_avantari_tech.ipynb",
   "provenance": [],
   "toc_visible": true
  },
  "kernelspec": {
   "display_name": "Python 3",
   "language": "python",
   "name": "python3"
  },
  "language_info": {
   "codemirror_mode": {
    "name": "ipython",
    "version": 3
   },
   "file_extension": ".py",
   "mimetype": "text/x-python",
   "name": "python",
   "nbconvert_exporter": "python",
   "pygments_lexer": "ipython3",
   "version": "3.7.8"
  }
 },
 "nbformat": 4,
 "nbformat_minor": 4
}
